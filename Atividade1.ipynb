{
  "nbformat": 4,
  "nbformat_minor": 0,
  "metadata": {
    "colab": {
      "provenance": []
    },
    "kernelspec": {
      "name": "python3",
      "display_name": "Python 3"
    },
    "language_info": {
      "name": "python"
    }
  },
  "cells": [
    {
      "cell_type": "code",
      "execution_count": 2,
      "metadata": {
        "colab": {
          "base_uri": "https://localhost:8080/"
        },
        "id": "UXlPbPsiYUjP",
        "outputId": "9f668460-f76b-4778-8ffd-74b3422e555c"
      },
      "outputs": [
        {
          "output_type": "stream",
          "name": "stdout",
          "text": [
            "Digite o primeiro número: 2\n",
            "Digite o segundo número: 2\n",
            "\n",
            "Escolha a operação:\n",
            "1 - Adição\n",
            "2 - Subtração\n",
            "3 - Multiplicação\n",
            "4 - Divisão\n",
            "5 - Sair\n",
            "\n",
            "Digite o número da operação desejada: 3\n",
            "Resultado: 2.0 * 2.0 = 4.0\n",
            "\n",
            "------------------------------\n",
            "Digite o primeiro número: 6\n",
            "Digite o segundo número: 6\n",
            "\n",
            "Escolha a operação:\n",
            "1 - Adição\n",
            "2 - Subtração\n",
            "3 - Multiplicação\n",
            "4 - Divisão\n",
            "5 - Sair\n",
            "\n",
            "Digite o número da operação desejada: 6\n",
            "Opção inválida. Tente novamente.\n",
            "\n",
            "------------------------------\n",
            "Digite o primeiro número: 6\n",
            "Digite o segundo número: 6\n",
            "\n",
            "Escolha a operação:\n",
            "1 - Adição\n",
            "2 - Subtração\n",
            "3 - Multiplicação\n",
            "4 - Divisão\n",
            "5 - Sair\n",
            "\n",
            "Digite o número da operação desejada: 5\n",
            "Encerrando o programa. Até mais!\n"
          ]
        },
        {
          "output_type": "execute_result",
          "data": {
            "text/plain": [
              "5"
            ]
          },
          "metadata": {},
          "execution_count": 2
        }
      ],
      "source": [
        "while True:\n",
        "    # Recebendo os números do usuário e convertendo em float\n",
        "    num1 = float(input(\"Digite o primeiro número: \"))\n",
        "    num2 = float(input(\"Digite o segundo número: \"))\n",
        "\n",
        "# Implementando ao menos 4 operações matemáticas e colocando menu de\n",
        "    # opção para usuários escolher a operação desejada\n",
        "\n",
        "    # Exibindo opções de operações\n",
        "    print(\"\\nEscolha a operação:\")\n",
        "    print(\"1 - Adição\")\n",
        "    print(\"2 - Subtração\")\n",
        "    print(\"3 - Multiplicação\")\n",
        "    print(\"4 - Divisão\")\n",
        "    print(\"5 - Sair\")\n",
        "\n",
        "    opcao = input(\"\\nDigite o número da operação desejada: \")\n",
        "\n",
        "    if opcao == \"1\":\n",
        "        print(f\"Resultado: {num1} + {num2} = {num1 + num2}\")\n",
        "    elif opcao == \"2\":\n",
        "        print(f\"Resultado: {num1} - {num2} = {num1 - num2}\")\n",
        "    elif opcao == \"3\":\n",
        "        print(f\"Resultado: {num1} * {num2} = {num1 * num2}\")\n",
        "    elif opcao == \"4\":\n",
        "        if num2 != 0:\n",
        "            print(f\"Resultado: {num1} / {num2} = {num1 / num2}\")\n",
        "        else:\n",
        "            print(\"Erro: divisão por zero não é permitida.\")\n",
        "    elif opcao == \"5\":\n",
        "        print(\"Encerrando o programa. Até mais!\")\n",
        "        break\n",
        "    else:\n",
        "        print(\"Opção inválida. Tente novamente.\")\n",
        "\n",
        "    print(\"\\n\" + \"-\" * 30)"
      ]
    }
  ]
}